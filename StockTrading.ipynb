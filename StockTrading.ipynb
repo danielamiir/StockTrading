{
 "cells": [
  {
   "cell_type": "markdown",
   "id": "75175d6d-70e0-465b-977f-65245ab88674",
   "metadata": {},
   "source": [
    "Docs: https://marketstack.com/documentation\n",
    "\n",
    "Marketstack can probably be used to detect upgoing trends automatically."
   ]
  },
  {
   "cell_type": "code",
   "execution_count": null,
   "id": "e652a81c-50dd-46b6-8ba0-1906a380e8a9",
   "metadata": {},
   "outputs": [],
   "source": [
    "import requests\n",
    "\n",
    "params = {\n",
    "  'access_key': 'd3e3f78d1aba53ffbfe93f0c46a89e52'\n",
    "}\n",
    "\n",
    "ticker = \"AAPL\"\n",
    "\n",
    "api_result = requests.get(\"http://api.marketstack.com/v1/tickers/\" + ticker + \"/eod\", params)\n",
    "\n",
    "api_response = api_result.json()\n",
    "api_response"
   ]
  },
  {
   "cell_type": "markdown",
   "id": "20afe650-1764-4cc1-a230-7a4634544a46",
   "metadata": {},
   "source": [
    "Check this out for balance sheet and income statement etc?\n",
    "https://site.financialmodelingprep.com/developer/docs/\n",
    "\n",
    "They even have DCF calculations in their API: https://site.financialmodelingprep.com/developer/docs/dcf-formula\n",
    "\n",
    "Another alternative: https://eodhistoricaldata.com/"
   ]
  },
  {
   "cell_type": "code",
   "execution_count": null,
   "id": "682c635a-d7b5-4362-93e2-e1ca02e41953",
   "metadata": {},
   "outputs": [],
   "source": []
  },
  {
   "cell_type": "code",
   "execution_count": null,
   "id": "71ccc0b8-1534-43a3-b2c9-f853aa68cd6b",
   "metadata": {},
   "outputs": [],
   "source": []
  },
  {
   "cell_type": "code",
   "execution_count": null,
   "id": "1688edff-0be2-4a11-80d7-92b2d6b9c554",
   "metadata": {},
   "outputs": [],
   "source": []
  }
 ],
 "metadata": {
  "kernelspec": {
   "display_name": "Python 3 (ipykernel)",
   "language": "python",
   "name": "python3"
  },
  "language_info": {
   "codemirror_mode": {
    "name": "ipython",
    "version": 3
   },
   "file_extension": ".py",
   "mimetype": "text/x-python",
   "name": "python",
   "nbconvert_exporter": "python",
   "pygments_lexer": "ipython3",
   "version": "3.9.16"
  }
 },
 "nbformat": 4,
 "nbformat_minor": 5
}
